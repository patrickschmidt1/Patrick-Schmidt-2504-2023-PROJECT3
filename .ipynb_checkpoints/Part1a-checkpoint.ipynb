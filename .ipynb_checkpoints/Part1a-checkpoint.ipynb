{
 "cells": [
  {
   "cell_type": "markdown",
   "metadata": {},
   "source": [
    "# MATH2504 2023 Project 3"
   ]
  },
  {
   "cell_type": "markdown",
   "metadata": {},
   "source": [
    "## Task 1a"
   ]
  },
  {
   "cell_type": "markdown",
   "metadata": {},
   "source": [
    "Student name: Patrick Schmidt \\\n",
    "Student number: 47447806"
   ]
  },
  {
   "cell_type": "markdown",
   "metadata": {},
   "source": [
    "[Click here](https://github.com/patrickschmidt1/Patrick-Schmidt-2504-2023-PROJECT3) for github repo"
   ]
  },
  {
   "cell_type": "code",
   "execution_count": 54,
   "metadata": {},
   "outputs": [
    {
     "ename": "LoadError",
     "evalue": "LoadError: ArgumentError: Package StatsPlots not found in current path.\n- Run `import Pkg; Pkg.add(\"StatsPlots\")` to install the StatsPlots package.\nin expression starting at C:\\Users\\patsc\\OneDrive\\yr2sem2\\MATH2504\\PROJECT3\\Patrick-Schmidt-2504-2023-PROJECT3\\src\\dependencies.jl:1",
     "output_type": "error",
     "traceback": [
      "LoadError: ArgumentError: Package StatsPlots not found in current path.\n",
      "- Run `import Pkg; Pkg.add(\"StatsPlots\")` to install the StatsPlots package.\n",
      "in expression starting at C:\\Users\\patsc\\OneDrive\\yr2sem2\\MATH2504\\PROJECT3\\Patrick-Schmidt-2504-2023-PROJECT3\\src\\dependencies.jl:1\n",
      "\n",
      "Stacktrace:\n",
      " [1] macro expansion\n",
      "   @ .\\loading.jl:1630 [inlined]\n",
      " [2] macro expansion\n",
      "   @ .\\lock.jl:267 [inlined]\n",
      " [3] require(into::Module, mod::Symbol)\n",
      "   @ Base .\\loading.jl:1611\n",
      " [4] include(fname::String)\n",
      "   @ Base.MainInclude .\\client.jl:478\n",
      " [5] top-level scope\n",
      "   @ c:\\Users\\patsc\\OneDrive\\yr2sem2\\MATH2504\\PROJECT3\\Patrick-Schmidt-2504-2023-PROJECT3\\.ipynb_checkpoints\\Part1a-checkpoint.ipynb:2"
     ]
    }
   ],
   "source": [
    "using Pkg\n",
    "include(\"C:\\\\Users\\\\patsc\\\\OneDrive\\\\yr2sem2\\\\MATH2504\\\\PROJECT3\\\\Patrick-Schmidt-2504-2023-PROJECT3\\\\src\\\\dependencies.jl\")\n",
    "include(\"C:\\\\Users\\\\patsc\\\\OneDrive\\\\yr2sem2\\\\MATH2504\\\\PROJECT3\\\\Patrick-Schmidt-2504-2023-PROJECT3\\\\src\\\\Helper_func.jl\")\n",
    "Pkg.activate(\".\");\n",
    "housing_df = read_file();"
   ]
  },
  {
   "cell_type": "markdown",
   "metadata": {},
   "source": [
    "### Task 1.1a- Exploratory data of single variables"
   ]
  },
  {
   "cell_type": "markdown",
   "metadata": {},
   "source": [
    "For this task we are required to create summaries and plots for the variables of <code>Rooms</code>, <code>Price</code>, <code>Method</code>, <code>Distance</code>, and <code>Landsize</code>. In doing so, data that was able to have a count was placed in a new data dframe and a table whereas continuous data had summary stats provided including mean, standard deviation and missing count. Below we have a table and bar plot to represent the <code>Rooms</code> variable. "
   ]
  },
  {
   "cell_type": "markdown",
   "metadata": {},
   "source": [
    "<code>Rooms</code>"
   ]
  },
  {
   "cell_type": "code",
   "execution_count": 55,
   "metadata": {},
   "outputs": [
    {
     "ename": "UndefVarError",
     "evalue": "UndefVarError: `housing_df` not defined",
     "output_type": "error",
     "traceback": [
      "UndefVarError: `housing_df` not defined\n",
      "\n",
      "Stacktrace:\n",
      " [1] top-level scope\n",
      "   @ c:\\Users\\patsc\\OneDrive\\yr2sem2\\MATH2504\\PROJECT3\\Patrick-Schmidt-2504-2023-PROJECT3\\.ipynb_checkpoints\\Part1a-checkpoint.ipynb:1"
     ]
    }
   ],
   "source": [
    "roomcount = combine(groupby(housing_df, :Rooms), nrow => :Count)"
   ]
  },
  {
   "cell_type": "markdown",
   "metadata": {},
   "source": [
    "To represent this data graphically a pie chart was used. This allows for a good comparison between groups. "
   ]
  },
  {
   "cell_type": "code",
   "execution_count": 56,
   "metadata": {},
   "outputs": [
    {
     "ename": "UndefVarError",
     "evalue": "UndefVarError: `roomcount` not defined",
     "output_type": "error",
     "traceback": [
      "UndefVarError: `roomcount` not defined\n",
      "\n",
      "Stacktrace:\n",
      " [1] top-level scope\n",
      "   @ c:\\Users\\patsc\\OneDrive\\yr2sem2\\MATH2504\\PROJECT3\\Patrick-Schmidt-2504-2023-PROJECT3\\.ipynb_checkpoints\\Part1a-checkpoint.ipynb:1"
     ]
    }
   ],
   "source": [
    "p2 = pie(roomcount.Rooms, roomcount.Count,  title = \"Distribution of rooms\")\n"
   ]
  },
  {
   "cell_type": "markdown",
   "metadata": {},
   "source": [
    "Now, we consider the <code>Price</code> variable. In order to do so, we will first display the summarstats. These are basic statstis about the group. "
   ]
  },
  {
   "cell_type": "code",
   "execution_count": 57,
   "metadata": {},
   "outputs": [
    {
     "ename": "UndefVarError",
     "evalue": "UndefVarError: `housing_df` not defined",
     "output_type": "error",
     "traceback": [
      "UndefVarError: `housing_df` not defined\n",
      "\n",
      "Stacktrace:\n",
      " [1] top-level scope\n",
      "   @ c:\\Users\\patsc\\OneDrive\\yr2sem2\\MATH2504\\PROJECT3\\Patrick-Schmidt-2504-2023-PROJECT3\\.ipynb_checkpoints\\Part1a-checkpoint.ipynb:1"
     ]
    }
   ],
   "source": [
    "summarystats(housing_df.Price)"
   ]
  },
  {
   "cell_type": "markdown",
   "metadata": {},
   "source": [
    "To represent this data, the following histogram is used. "
   ]
  },
  {
   "cell_type": "code",
   "execution_count": 58,
   "metadata": {},
   "outputs": [
    {
     "ename": "UndefVarError",
     "evalue": "UndefVarError: `housing_df` not defined",
     "output_type": "error",
     "traceback": [
      "UndefVarError: `housing_df` not defined\n",
      "\n",
      "Stacktrace:\n",
      " [1] top-level scope\n",
      "   @ c:\\Users\\patsc\\OneDrive\\yr2sem2\\MATH2504\\PROJECT3\\Patrick-Schmidt-2504-2023-PROJECT3\\.ipynb_checkpoints\\Part1a-checkpoint.ipynb:1"
     ]
    }
   ],
   "source": [
    "histogram(housing_df.Price, nbins=150, label=false, xlabel=\"Price (\\$)\", ylabel=\"Number of houses\",fillcolor = :cyan, formatter=:plain)"
   ]
  },
  {
   "cell_type": "markdown",
   "metadata": {},
   "source": [
    "<code>Method</code> "
   ]
  },
  {
   "cell_type": "code",
   "execution_count": 59,
   "metadata": {},
   "outputs": [
    {
     "ename": "UndefVarError",
     "evalue": "UndefVarError: `housing_df` not defined",
     "output_type": "error",
     "traceback": [
      "UndefVarError: `housing_df` not defined\n",
      "\n",
      "Stacktrace:\n",
      " [1] top-level scope\n",
      "   @ c:\\Users\\patsc\\OneDrive\\yr2sem2\\MATH2504\\PROJECT3\\Patrick-Schmidt-2504-2023-PROJECT3\\.ipynb_checkpoints\\Part1a-checkpoint.ipynb:1"
     ]
    }
   ],
   "source": [
    "method = sort(combine(groupby(housing_df, :Method), nrow => :Count), :Count)"
   ]
  },
  {
   "cell_type": "markdown",
   "metadata": {},
   "source": [
    "Given the discrete nature of the data, a bar chart was used to represent the <code>method</code> data. "
   ]
  },
  {
   "cell_type": "code",
   "execution_count": 60,
   "metadata": {},
   "outputs": [
    {
     "ename": "UndefVarError",
     "evalue": "UndefVarError: `method` not defined",
     "output_type": "error",
     "traceback": [
      "UndefVarError: `method` not defined\n",
      "\n",
      "Stacktrace:\n",
      " [1] top-level scope\n",
      "   @ c:\\Users\\patsc\\OneDrive\\yr2sem2\\MATH2504\\PROJECT3\\Patrick-Schmidt-2504-2023-PROJECT3\\.ipynb_checkpoints\\Part1a-checkpoint.ipynb:1"
     ]
    }
   ],
   "source": [
    "bar(method.Method, method.Count, xlabel=\"Method\", ylabel=\"Count\", label = false, fillcolor =:cyan)"
   ]
  },
  {
   "cell_type": "markdown",
   "metadata": {},
   "source": [
    "### <code>Distance</code>"
   ]
  },
  {
   "cell_type": "code",
   "execution_count": 61,
   "metadata": {},
   "outputs": [
    {
     "ename": "UndefVarError",
     "evalue": "UndefVarError: `housing_df` not defined",
     "output_type": "error",
     "traceback": [
      "UndefVarError: `housing_df` not defined\n",
      "\n",
      "Stacktrace:\n",
      " [1] top-level scope\n",
      "   @ c:\\Users\\patsc\\OneDrive\\yr2sem2\\MATH2504\\PROJECT3\\Patrick-Schmidt-2504-2023-PROJECT3\\.ipynb_checkpoints\\Part1a-checkpoint.ipynb:1"
     ]
    }
   ],
   "source": [
    "summarystats(housing_df.Distance)"
   ]
  },
  {
   "cell_type": "markdown",
   "metadata": {},
   "source": [
    "For this data, a histogram/ density plot was used. "
   ]
  },
  {
   "cell_type": "code",
   "execution_count": 62,
   "metadata": {},
   "outputs": [
    {
     "ename": "UndefVarError",
     "evalue": "UndefVarError: `housing_df` not defined",
     "output_type": "error",
     "traceback": [
      "UndefVarError: `housing_df` not defined\n",
      "\n",
      "Stacktrace:\n",
      " [1] top-level scope\n",
      "   @ c:\\Users\\patsc\\OneDrive\\yr2sem2\\MATH2504\\PROJECT3\\Patrick-Schmidt-2504-2023-PROJECT3\\.ipynb_checkpoints\\Part1a-checkpoint.ipynb:1"
     ]
    }
   ],
   "source": [
    "histogram(housing_df.Distance, label=false, xlabel=\"Distance from City\", ylabel=\"Density of houses\", fillcolor = :cyan,normed=true)\n",
    "density!(dropmissing!(copy(housing_df), :Distance).Distance, lw=5, label=\"Density of houses\") #note that dropmissing is required to remove the one house that doesnt have a listed ditance"
   ]
  },
  {
   "cell_type": "markdown",
   "metadata": {},
   "source": [
    "### <code>Landsize</code>"
   ]
  },
  {
   "cell_type": "code",
   "execution_count": 63,
   "metadata": {},
   "outputs": [
    {
     "ename": "UndefVarError",
     "evalue": "UndefVarError: `housing_df` not defined",
     "output_type": "error",
     "traceback": [
      "UndefVarError: `housing_df` not defined\n",
      "\n",
      "Stacktrace:\n",
      " [1] top-level scope\n",
      "   @ c:\\Users\\patsc\\OneDrive\\yr2sem2\\MATH2504\\PROJECT3\\Patrick-Schmidt-2504-2023-PROJECT3\\.ipynb_checkpoints\\Part1a-checkpoint.ipynb:1"
     ]
    }
   ],
   "source": [
    "summarystats(housing_df.Landsize)"
   ]
  },
  {
   "cell_type": "markdown",
   "metadata": {},
   "source": [
    "As evident from the above statistics, it is clear that majority of the data falls in the first few thousand. As a result, when plotting, the x-axis was limited to 5000. "
   ]
  },
  {
   "cell_type": "code",
   "execution_count": 64,
   "metadata": {},
   "outputs": [
    {
     "ename": "UndefVarError",
     "evalue": "UndefVarError: `housing_df` not defined",
     "output_type": "error",
     "traceback": [
      "UndefVarError: `housing_df` not defined\n",
      "\n",
      "Stacktrace:\n",
      " [1] top-level scope\n",
      "   @ c:\\Users\\patsc\\OneDrive\\yr2sem2\\MATH2504\\PROJECT3\\Patrick-Schmidt-2504-2023-PROJECT3\\.ipynb_checkpoints\\Part1a-checkpoint.ipynb:1"
     ]
    }
   ],
   "source": [
    "histogram(housing_df.Landsize, xlim=(0,5000), legend=false, xlabel=\"Landsize of Property\", ylabel=\"Count\")\n"
   ]
  },
  {
   "cell_type": "markdown",
   "metadata": {},
   "source": [
    "### Task 1.2a Exploratory data analysis comparing variables "
   ]
  },
  {
   "cell_type": "markdown",
   "metadata": {},
   "source": [
    "Below, we plot <code>price</code> as a function of <code>distance</code>. This is done through a scatter plot with conclusions drawn below. "
   ]
  },
  {
   "cell_type": "code",
   "execution_count": 65,
   "metadata": {},
   "outputs": [
    {
     "ename": "UndefVarError",
     "evalue": "UndefVarError: `housing_df` not defined",
     "output_type": "error",
     "traceback": [
      "UndefVarError: `housing_df` not defined\n",
      "\n",
      "Stacktrace:\n",
      " [1] top-level scope\n",
      "   @ c:\\Users\\patsc\\OneDrive\\yr2sem2\\MATH2504\\PROJECT3\\Patrick-Schmidt-2504-2023-PROJECT3\\.ipynb_checkpoints\\Part1a-checkpoint.ipynb:1"
     ]
    }
   ],
   "source": [
    "distance_df = dropmissing!(copy(housing_df), :Distance)\n",
    "price_df = dropmissing!(distance_df, :Price)\n",
    "\n",
    "scatter(price_df.Distance, price_df.Price, xlabel=\"Distance from City (km)\", ylabel=\"Price (\\$)\", label=false)"
   ]
  },
  {
   "cell_type": "markdown",
   "metadata": {},
   "source": [
    "From the plot above it is clear that the closer a property is to the city, the more variability there is in price. This mainly occurs inside of 15km. Additionally, it is evident that the main few outliers in the data occur between 5 and 20km from the city. Finally, the majority of houses selling for more than $\\$3,000,000$ are found within 15km from the city."
   ]
  },
  {
   "cell_type": "markdown",
   "metadata": {},
   "source": [
    "Now, we consdier <code>price</code> as a function of <code>landsize</code>. Once again, to make the graph readable, the range of the distance is limited to 5000. "
   ]
  },
  {
   "cell_type": "code",
   "execution_count": 66,
   "metadata": {},
   "outputs": [
    {
     "ename": "UndefVarError",
     "evalue": "UndefVarError: `housing_df` not defined",
     "output_type": "error",
     "traceback": [
      "UndefVarError: `housing_df` not defined\n",
      "\n",
      "Stacktrace:\n",
      " [1] top-level scope\n",
      "   @ c:\\Users\\patsc\\OneDrive\\yr2sem2\\MATH2504\\PROJECT3\\Patrick-Schmidt-2504-2023-PROJECT3\\.ipynb_checkpoints\\Part1a-checkpoint.ipynb:1"
     ]
    }
   ],
   "source": [
    "landsize_df = dropmissing!(copy(housing_df), :Landsize)\n",
    "df = dropmissing!(landsize_df, :Price)\n",
    "#note this is condensed\n",
    "scatter(df.Landsize, df.Price, xlim = (0,5000),xlabel=\"Landsize\", ylabel=\"Price (\\$)\", label=false)"
   ]
  },
  {
   "cell_type": "markdown",
   "metadata": {},
   "source": [
    "Once again, it is evident in the above graph that the majority of the variabilty occurs in the smaller land sizes. However, the most variable section is between 1200 and 2000. Furthermore, it is evident that there are no proeprties sold over $\\$2,500,000$ that have a landsize between 2200 and 3900. This section is then followed by somewhat of a spike at 4000 with multiple properties sold over the $\\$2.5$ million mark. "
   ]
  },
  {
   "cell_type": "markdown",
   "metadata": {},
   "source": [
    "We now consider <code>price</code> as a function of <code>rooms</code>. In order to do so, a step hostogram will be used."
   ]
  },
  {
   "cell_type": "code",
   "execution_count": 67,
   "metadata": {},
   "outputs": [
    {
     "ename": "UndefVarError",
     "evalue": "UndefVarError: `rooms_df` not defined",
     "output_type": "error",
     "traceback": [
      "UndefVarError: `rooms_df` not defined\n",
      "\n",
      "Stacktrace:\n",
      " [1] top-level scope\n",
      "   @ c:\\Users\\patsc\\OneDrive\\yr2sem2\\MATH2504\\PROJECT3\\Patrick-Schmidt-2504-2023-PROJECT3\\.ipynb_checkpoints\\Part1a-checkpoint.ipynb:1"
     ]
    }
   ],
   "source": [
    "df = dropmissing!(rooms_df, :Price)\n",
    "stephist(df.Price, bins = 300, group=df.Rooms, lw = 2, xlabel = \"Price (\\$)\", ylabel = \"Number of properties\")"
   ]
  },
  {
   "cell_type": "markdown",
   "metadata": {},
   "source": [
    "From the above graph it is evident that the majority of properties are sold wil 1 - 4 rooms. Furthermore, it is also evident that the price increases with the number of rooms which is to be expected. Given the amount of properties with less rooms, it is difficult to represent the limited properties with more rooms on this plot. "
   ]
  },
  {
   "cell_type": "markdown",
   "metadata": {},
   "source": [
    "We will now consider <code>Price</code> as a function of <code>Car</code> by once again using the step histogram.   "
   ]
  },
  {
   "cell_type": "code",
   "execution_count": 68,
   "metadata": {},
   "outputs": [
    {
     "ename": "UndefVarError",
     "evalue": "UndefVarError: `housing_df` not defined",
     "output_type": "error",
     "traceback": [
      "UndefVarError: `housing_df` not defined\n",
      "\n",
      "Stacktrace:\n",
      " [1] top-level scope\n",
      "   @ c:\\Users\\patsc\\OneDrive\\yr2sem2\\MATH2504\\PROJECT3\\Patrick-Schmidt-2504-2023-PROJECT3\\.ipynb_checkpoints\\Part1a-checkpoint.ipynb:1"
     ]
    }
   ],
   "source": [
    "car_df = dropmissing!(copy(housing_df), :Car)\n",
    "df = dropmissing!(car_df, :Price)\n",
    "stephist(df.Price, bins = 500, group=df.Car, lw = 2, xlabel = \"Price (\\$)\", ylabel = \"Number of properties\")"
   ]
  },
  {
   "cell_type": "markdown",
   "metadata": {},
   "source": [
    "From above, it is evident that majority of proeprties were sold with 1-2 car garages. Given they're sharp spikes, it is evident that there is not much of an increase in price fo these properties. Given the more sustained peak however, it is evident that two garage properties have more variability than 1-garage. "
   ]
  },
  {
   "cell_type": "markdown",
   "metadata": {},
   "source": [
    "We will now consider a combination of variables with <code>Price</code> as a function of <code>Distance</code> and <code>Type</code>."
   ]
  },
  {
   "cell_type": "code",
   "execution_count": 69,
   "metadata": {},
   "outputs": [
    {
     "ename": "UndefVarError",
     "evalue": "UndefVarError: `housing_df` not defined",
     "output_type": "error",
     "traceback": [
      "UndefVarError: `housing_df` not defined\n",
      "\n",
      "Stacktrace:\n",
      " [1] top-level scope\n",
      "   @ c:\\Users\\patsc\\OneDrive\\yr2sem2\\MATH2504\\PROJECT3\\Patrick-Schmidt-2504-2023-PROJECT3\\.ipynb_checkpoints\\Part1a-checkpoint.ipynb:1"
     ]
    }
   ],
   "source": [
    "distance_df = dropmissing!(copy(housing_df), :Distance)\n",
    "price_df = dropmissing!(distance_df, :Price)\n",
    "scatter(price_df.Distance, price_df.Price, group = price_df.Type, labels=[\"House\" \"Townhouse\" \"Unit\"], xlabel=\"Distance from City (km)\", ylabel=\"Price (\\$)\")"
   ]
  },
  {
   "cell_type": "markdown",
   "metadata": {},
   "source": [
    "From the plot above it is evident that within each <code>Type</code> the majority of the variability occurs withing 20km from the city. Now, looking at each <code>Type</code> it is evident that units and townhouses have a similar variability whilst houses have far more. Interestingly the proportions of each type seem to be spread evenly accross the map relative to their total amount. "
   ]
  },
  {
   "cell_type": "markdown",
   "metadata": {},
   "source": [
    "### Task 1.3a Exploratory data analysis over time "
   ]
  },
  {
   "cell_type": "code",
   "execution_count": 70,
   "metadata": {},
   "outputs": [
    {
     "ename": "UndefVarError",
     "evalue": "UndefVarError: `housing_df` not defined",
     "output_type": "error",
     "traceback": [
      "UndefVarError: `housing_df` not defined\n",
      "\n",
      "Stacktrace:\n",
      " [1] top-level scope\n",
      "   @ c:\\Users\\patsc\\OneDrive\\yr2sem2\\MATH2504\\PROJECT3\\Patrick-Schmidt-2504-2023-PROJECT3\\.ipynb_checkpoints\\Part1a-checkpoint.ipynb:1"
     ]
    }
   ],
   "source": [
    "df = copy(housing_df)\n",
    "df.Date = Date.(housing_df.Date, \"dd/mm/yyyy\")\n",
    "sort!(df,:Date)\n",
    "transform!(df, :Date => ByRow(d -> Dates.format(d, \"yyyy-mm\")) => :Month);\n"
   ]
  },
  {
   "cell_type": "markdown",
   "metadata": {},
   "source": [
    "Below we will show the number of properties sold per month."
   ]
  },
  {
   "cell_type": "code",
   "execution_count": 71,
   "metadata": {},
   "outputs": [
    {
     "ename": "UndefVarError",
     "evalue": "UndefVarError: `df` not defined",
     "output_type": "error",
     "traceback": [
      "UndefVarError: `df` not defined\n",
      "\n",
      "Stacktrace:\n",
      " [1] top-level scope\n",
      "   @ c:\\Users\\patsc\\OneDrive\\yr2sem2\\MATH2504\\PROJECT3\\Patrick-Schmidt-2504-2023-PROJECT3\\.ipynb_checkpoints\\Part1a-checkpoint.ipynb:2"
     ]
    }
   ],
   "source": [
    "#Sold per time overall\n",
    "df_date = combine(groupby(df, :Month), nrow => :Count)\n",
    "plot(df_date.Month, df_date.Count, ylabel = \"Properties sold in month\", xlabel = \"Month\", label = false)\n"
   ]
  },
  {
   "cell_type": "markdown",
   "metadata": {},
   "source": [
    "Now, we wil consider the monthly results in terms of transaction values."
   ]
  },
  {
   "cell_type": "code",
   "execution_count": 72,
   "metadata": {},
   "outputs": [
    {
     "ename": "UndefVarError",
     "evalue": "UndefVarError: `df` not defined",
     "output_type": "error",
     "traceback": [
      "UndefVarError: `df` not defined\n",
      "\n",
      "Stacktrace:\n",
      " [1] top-level scope\n",
      "   @ c:\\Users\\patsc\\OneDrive\\yr2sem2\\MATH2504\\PROJECT3\\Patrick-Schmidt-2504-2023-PROJECT3\\.ipynb_checkpoints\\Part1a-checkpoint.ipynb:2"
     ]
    }
   ],
   "source": [
    "#Value of sales per month\n",
    "df = dropmissing(df, :Price)\n",
    "df_money = combine(groupby(df, :Month), :Price => sum => :Price)\n",
    "plot(df_money.Month, df_money.Price, xlabel = \"Month\", ylabel = \"Sales value per month (\\$)\", label = false)\n"
   ]
  },
  {
   "cell_type": "markdown",
   "metadata": {},
   "source": [
    "Below is the plot of the proportion of houses sold over time. "
   ]
  },
  {
   "cell_type": "code",
   "execution_count": 73,
   "metadata": {},
   "outputs": [
    {
     "ename": "UndefVarError",
     "evalue": "UndefVarError: `df` not defined",
     "output_type": "error",
     "traceback": [
      "UndefVarError: `df` not defined\n",
      "\n",
      "Stacktrace:\n",
      " [1] top-level scope\n",
      "   @ c:\\Users\\patsc\\OneDrive\\yr2sem2\\MATH2504\\PROJECT3\\Patrick-Schmidt-2504-2023-PROJECT3\\.ipynb_checkpoints\\Part1a-checkpoint.ipynb:1"
     ]
    }
   ],
   "source": [
    "df = groupby(df, [:Month, :Type])\n",
    "df = combine(df, nrow => :count)\n",
    "df = groupby(df, :Month)\n",
    "df_group = combine(df, :count => (x -> x / sum(x)) => :prop, :Month, :Type)\n",
    "df_sub = subset(df_group, :Type => ByRow(==(\"h\")))\n",
    "sort!(df_sub, :Month)\n",
    "\n",
    "plot(df_sub.Month, df_sub.prop, xlabel = \"Month\", ylabel = \"Proportion\")"
   ]
  },
  {
   "cell_type": "markdown",
   "metadata": {},
   "source": [
    "### Task 1.4a Linear regression model"
   ]
  },
  {
   "cell_type": "markdown",
   "metadata": {},
   "source": [
    "In order to test the models we will create a training set and a validation set in a similar way to Practical H."
   ]
  },
  {
   "cell_type": "code",
   "execution_count": 74,
   "metadata": {},
   "outputs": [
    {
     "ename": "UndefVarError",
     "evalue": "UndefVarError: `housing_df` not defined",
     "output_type": "error",
     "traceback": [
      "UndefVarError: `housing_df` not defined\n",
      "\n",
      "Stacktrace:\n",
      " [1] top-level scope\n",
      "   @ c:\\Users\\patsc\\OneDrive\\yr2sem2\\MATH2504\\PROJECT3\\Patrick-Schmidt-2504-2023-PROJECT3\\.ipynb_checkpoints\\Part1a-checkpoint.ipynb:1"
     ]
    }
   ],
   "source": [
    "df = dropmissing!(copy(housing_df))\n",
    "\n",
    "n, _ = size(df)\n",
    "\n",
    "using Random\n",
    "Random.seed!(0)\n",
    "p_validate = 0.05\n",
    "n_validate = floor(Int, p_validate*n)\n",
    "validate_index_set = sample(1:n, n_validate, replace = false)\n",
    "train_index_set = setdiff(1:n, validate_index_set);\n",
    "\n",
    "n_validate = length(validate_index_set)\n",
    "n_train = length(train_index_set)\n",
    "n_train, n_validate\n",
    "\n",
    "\n",
    "df_train = df[train_index_set,:]\n",
    "df_validate = df[validate_index_set,:];"
   ]
  },
  {
   "cell_type": "markdown",
   "metadata": {},
   "source": [
    "We will now create the models."
   ]
  },
  {
   "cell_type": "code",
   "execution_count": 75,
   "metadata": {},
   "outputs": [
    {
     "ename": "LoadError",
     "evalue": "LoadError: UndefVarError: `@formula` not defined\nin expression starting at c:\\Users\\patsc\\OneDrive\\yr2sem2\\MATH2504\\PROJECT3\\Patrick-Schmidt-2504-2023-PROJECT3\\.ipynb_checkpoints\\Part1a-checkpoint.ipynb:1",
     "output_type": "error",
     "traceback": [
      "LoadError: UndefVarError: `@formula` not defined\n",
      "in expression starting at c:\\Users\\patsc\\OneDrive\\yr2sem2\\MATH2504\\PROJECT3\\Patrick-Schmidt-2504-2023-PROJECT3\\.ipynb_checkpoints\\Part1a-checkpoint.ipynb:1\n"
     ]
    }
   ],
   "source": [
    "model_1 = lm(@formula(Price ~ Landsize), df);\n",
    "model_2 = lm(@formula(Price ~ Distance), df);\n",
    "model_3 = lm(@formula(Price ~ Distance + Rooms), df);\n",
    "model_4 = lm(@formula(Price ~ Distance + Rooms + Landsize), df);\n",
    "model_5 = lm(@formula(Price ~ Distance + Rooms + Landsize + Car), df);\n",
    "model_6 = lm(@formula(Price ~ Distance + Rooms + Landsize + Car + Suburb + Type), df, contrasts=Dict(:Suburb => DummyCoding()));"
   ]
  },
  {
   "cell_type": "code",
   "execution_count": 76,
   "metadata": {},
   "outputs": [
    {
     "ename": "UndefVarError",
     "evalue": "UndefVarError: `predict` not defined",
     "output_type": "error",
     "traceback": [
      "UndefVarError: `predict` not defined\n",
      "\n",
      "Stacktrace:\n",
      " [1] top-level scope\n",
      "   @ c:\\Users\\patsc\\OneDrive\\yr2sem2\\MATH2504\\PROJECT3\\Patrick-Schmidt-2504-2023-PROJECT3\\.ipynb_checkpoints\\Part1a-checkpoint.ipynb:1"
     ]
    }
   ],
   "source": [
    "scatter(predict(model_1, df_validate),df_validate.Price, label = \"model 1\", xlabel = \"Predicted Price (\\$)\", ylabel = \"Actual Price (\\$)\", ms=3, msw=0)\n",
    "scatter!(predict(model_2, df_validate),df_validate.Price, label = \"model 2\", xlabel = \"Predicted Price (\\$)\", ylabel = \"Actual Price (\\$)\", ms=3, msw=0)\n",
    "scatter!(predict(model_3, df_validate),df_validate.Price, label = \"model 3\", xlabel = \"Predicted Price (\\$)\", ylabel = \"Actual Price (\\$)\", ms=3, msw=0)\n",
    "scatter!(predict(model_4, df_validate),df_validate.Price, label = \"model 4\", xlabel = \"Predicted Price (\\$)\", ylabel = \"Actual Price (\\$)\", ms=3, msw=0)\n",
    "scatter!(predict(model_5, df_validate),df_validate.Price, label = \"model 5\", xlabel = \"Predicted Price (\\$)\", ylabel = \"Actual Price (\\$)\", ms=3, msw=0)\n",
    "scatter!(predict(model_6, df_validate),df_validate.Price, label = \"model 6\", xlabel = \"Predicted Price (\\$)\", ylabel = \"Actual Price (\\$)\", ms=3, msw=0, legend = :topleft)"
   ]
  },
  {
   "cell_type": "markdown",
   "metadata": {},
   "source": [
    "From the graph, it appears that that model 6 is the best model. However, we will consider the mean square error below for a more definitive answer."
   ]
  },
  {
   "cell_type": "code",
   "execution_count": 77,
   "metadata": {},
   "outputs": [
    {
     "data": {
      "text/plain": [
       "mse (generic function with 1 method)"
      ]
     },
     "metadata": {},
     "output_type": "display_data"
    }
   ],
   "source": [
    "mse(y,ŷ) = sqrt(sum((y-ŷ).^2))"
   ]
  },
  {
   "cell_type": "code",
   "execution_count": 78,
   "metadata": {},
   "outputs": [
    {
     "ename": "UndefVarError",
     "evalue": "UndefVarError: `model_1` not defined",
     "output_type": "error",
     "traceback": [
      "UndefVarError: `model_1` not defined\n",
      "\n",
      "Stacktrace:\n",
      " [1] top-level scope\n",
      "   @ c:\\Users\\patsc\\OneDrive\\yr2sem2\\MATH2504\\PROJECT3\\Patrick-Schmidt-2504-2023-PROJECT3\\.ipynb_checkpoints\\Part1a-checkpoint.ipynb:1"
     ]
    }
   ],
   "source": [
    "[mse(predict(model, df_validate), df_validate.Price) for model in [model_1, model_2, model_3, model_4, model_5, model_6]]\n"
   ]
  },
  {
   "cell_type": "markdown",
   "metadata": {},
   "source": [
    "From above, it is evident that model 6 has the lowest MSE and hence is the most effective of the linear models. This considers <code>Price ~ Distance + Rooms + Landsize + Car + Suburb + Type</code>. Even though this still has a large amount of error, it is the best model that I could find. "
   ]
  }
 ],
 "metadata": {
  "kernelspec": {
   "display_name": "Julia 1.9.3",
   "language": "julia",
   "name": "julia-1.9"
  },
  "language_info": {
   "file_extension": ".jl",
   "mimetype": "application/julia",
   "name": "julia",
   "version": "1.9.3"
  }
 },
 "nbformat": 4,
 "nbformat_minor": 2
}
